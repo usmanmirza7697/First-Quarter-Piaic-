{
 "cells": [
  {
   "cell_type": "code",
   "execution_count": 2,
   "metadata": {},
   "outputs": [
    {
     "name": "stdout",
     "output_type": "stream",
     "text": [
      "Enter the number of subjects : 6\n",
      "Enter the subject name : Engilish\n",
      "Enter the marks of  Engilish :78\n",
      "Enter the subject name : adf\n",
      "Enter the marks of  adf :76\n",
      "Enter the subject name : afd86\n",
      "Enter the marks of  afd86 :86\n",
      "Enter the subject name : aadf86\n",
      "Enter the marks of  aadf86 :98\n",
      "Enter the subject name : adsf\n",
      "Enter the marks of  adsf :64\n",
      "Enter the subject name : asf\n",
      "Enter the marks of  asf :75\n",
      "==================================Mark Sheet=======================================\n",
      "||Subject \t \t \t || Marks Obtained \t \t \t || Percentage \n",
      "||Engilish\t\t\t\t || 78\n",
      "||adf\t\t\t\t || 76\n",
      "||afd86\t\t\t\t || 86\n",
      "||aadf86\t\t\t\t || 98\n",
      "||adsf\t\t\t\t || 64\n",
      "||asf\t\t\t\t || 75\n",
      "\t\t\t\t\t\t\t\t\t || 79.5\n"
     ]
    }
   ],
   "source": [
    "filestring=\"\"\n",
    "filestring+=\"=========Mark Sheet Program=========\"\n",
    "m_sheet={}\n",
    "total=0\n",
    "filestring=\"\"\n",
    "no_of_sub=int(input(\"Enter the number of subjects : \"))\n",
    "for x in range (no_of_sub):\n",
    "    subject=input(\"Enter the subject name : \")\n",
    "    print(\"Enter the marks of \",subject,\":\",end='')\n",
    "    marks=int(input(\"\"))\n",
    "    total+=marks\n",
    "    m_sheet[subject]=marks\n",
    "percentage=str(round((total/(no_of_sub*100)*100),2))\n",
    "filestring+=\"==================================Mark Sheet=======================================\\n\"\n",
    "filestring+=\"||Subject \\t \\t \\t || Marks Obtained \\t \\t \\t || Percentage \\n\"\n",
    "for a,b in m_sheet.items():\n",
    "    filestring+=(\"||\"+str(a)+\"\\t\\t\\t\\t || \"+str(b)+\"\\n\")\n",
    "filestring+=(\"\\t\\t\\t\\t\\t\\t\\t\\t\\t || \"+percentage)\n",
    "print(filestring)\n",
    "f=open(\"E:MarkSheet\",\"w+\")\n",
    "f.write(filestring)\n",
    "f.close()\n",
    "    \n",
    "\n",
    "    "
   ]
  },
  {
   "cell_type": "code",
   "execution_count": null,
   "metadata": {},
   "outputs": [],
   "source": []
  },
  {
   "cell_type": "code",
   "execution_count": null,
   "metadata": {},
   "outputs": [],
   "source": []
  },
  {
   "cell_type": "code",
   "execution_count": null,
   "metadata": {},
   "outputs": [],
   "source": []
  }
 ],
 "metadata": {
  "kernelspec": {
   "display_name": "Python 3",
   "language": "python",
   "name": "python3"
  },
  "language_info": {
   "codemirror_mode": {
    "name": "ipython",
    "version": 3
   },
   "file_extension": ".py",
   "mimetype": "text/x-python",
   "name": "python",
   "nbconvert_exporter": "python",
   "pygments_lexer": "ipython3",
   "version": "3.7.3"
  }
 },
 "nbformat": 4,
 "nbformat_minor": 2
}
