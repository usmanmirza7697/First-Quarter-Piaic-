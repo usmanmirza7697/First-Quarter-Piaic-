{
 "cells": [
  {
   "cell_type": "code",
   "execution_count": null,
   "metadata": {},
   "outputs": [],
   "source": [
    "#Assignment \n",
    "#Q1 : Calculating the area of the circle having 0.5 raduis\n",
    "import math\n",
    "rad=float(input(\"Enter the raduis of circle : \"))\n",
    "area=str((math.pi)*rad**2)\n",
    "print(\"Area of circle is : \"+area)"
   ]
  },
  {
   "cell_type": "code",
   "execution_count": null,
   "metadata": {},
   "outputs": [],
   "source": [
    "#Q2 : Check whether the number you entered is positive negative or zero\n",
    "num=float(input(\"Enter a number : \"))\n",
    "if num>0:\n",
    "    print(\"The number you Entered is a positive number\")\n",
    "elif num<0:\n",
    "    print(\"The number you Entered is a negative number\")\n",
    "else:\n",
    "    print(\"The number you Entered is zero\")"
   ]
  },
  {
   "cell_type": "code",
   "execution_count": null,
   "metadata": {},
   "outputs": [],
   "source": [
    "#Q3 : Write a Python program to check whether a number is completely divisible by another number. Accept two integer\n",
    "#values form the user\n",
    "first_num=int(input(\"Enter Numinator : \"))\n",
    "sec_num=int(input(\"Enter Numinator : \"))\n",
    "if first_num%sec_num == 0:\n",
    "    print(\"The above number is completely divisible by : \"+str(sec_num))\n",
    "else:\n",
    "    print(\"The above number is not completely divisible by : \"+str(sec_num))"
   ]
  },
  {
   "cell_type": "code",
   "execution_count": null,
   "metadata": {},
   "outputs": [],
   "source": [
    "#Q4 : Write a Python program to calculate number of days between two dates\n",
    "from datetime import date\n",
    "first_date=date(2019,7,25)\n",
    "sec_date=date(2015,6,23)\n",
    "diff_result=first_date-sec_date\n",
    "print(str(diff_result.days)+ \" Days is the difference of days between this : \"+str(first_date)+\" & \"+str(sec_date))\n"
   ]
  },
  {
   "cell_type": "code",
   "execution_count": null,
   "metadata": {
    "scrolled": true
   },
   "outputs": [],
   "source": [
    "#Q5 :Write a Python program to get the volume of a sphere, please take the radius as input from user \n",
    "import math\n",
    "raduis=float(input(\"Enter the Raduis of the sphere :\"))\n",
    "volume=4/3*math.pi*raduis**3\n",
    "print(\"The volume of the sphere is : \"+str(volume))"
   ]
  },
  {
   "cell_type": "code",
   "execution_count": null,
   "metadata": {},
   "outputs": [],
   "source": [
    "#Q6 :Write a Python program to get a string which is n (non-negative integer) copies of a given string.\n",
    "var=input(\"Enter String : \")\n",
    "no_of_times=int(input(\"How many copies of string you need : \"))\n",
    "rep=\"\"\n",
    "for x in range (no_of_times):\n",
    "    rep+=var\n",
    "print(str(no_of_times)+\" copies of \"+var+\" are : \"+rep)"
   ]
  },
  {
   "cell_type": "code",
   "execution_count": null,
   "metadata": {},
   "outputs": [],
   "source": [
    "#Q7 :Write a Python program to find whether a given number (accept from the user) is even or odd, print out an appropriate message to the user \n",
    "int1=int(input(\"Enter a number : \"))\n",
    "if int1%2==0:\n",
    "    print(str(int1) + \" is an even number\")\n",
    "else:\n",
    "    print(str(int1) + \" is an odd number\")"
   ]
  },
  {
   "cell_type": "code",
   "execution_count": null,
   "metadata": {},
   "outputs": [],
   "source": [
    "#Q8 :Write a Python program to test whether a passed letter is a vowel or not\n",
    "var=input(\"Enter a letter : \")\n",
    "if var=='a' or var=='e' or var=='i' or var=='o' or var=='u' or var=='A' or var=='E' or var=='I' or var=='O' or var=='U':\n",
    "    print(var,\"It is a vowel\")\n",
    "else:\n",
    "    print(var,\"It is a consonant\")"
   ]
  },
  {
   "cell_type": "code",
   "execution_count": null,
   "metadata": {},
   "outputs": [],
   "source": [
    "#Q9 :Write a Python program that will accept the base and height of a triangle and compute the area \n",
    "length=int(input(\"Enter the magnitude of length of the triangle: \"))\n",
    "height=int(input(\"Enter the magnitude of height the triangle: \"))\n",
    "area=(length*height)/2\n",
    "print(\"Area of the triangle with height \",height,\"and length\",length,\"is : \",area)\n"
   ]
  },
  {
   "cell_type": "code",
   "execution_count": null,
   "metadata": {},
   "outputs": [],
   "source": [
    "#Q10 :Write a Python program to compute the future value of a specified principal amount, rate of interest, and a number of years \n",
    "p_amount=float(input(\"Enter the principle amount : \"))\n",
    "interest=float(input(\"Enter the rate of interest in % : \"))\n",
    "no_of_years_of_invest=float(input(\"Enter number of years for investment: : \"))\n",
    "future_value=p_amount*((1+interest) ** no_of_years_of_invest)\n",
    "print(\"After\",no_of_years_of_invest,\" years your principal amount \",p_amount,\" over an interest rate of \",interest,\" will be \",round(future_value,2))\n",
    "\n",
    "               \n"
   ]
  },
  {
   "cell_type": "code",
   "execution_count": null,
   "metadata": {},
   "outputs": [],
   "source": [
    "#Q11 :Write a Python program to compute the distance between the points (x1, y1) and (x2, y2).\n",
    "import math\n",
    "x1=float(input(\"Enter the co- ordinate for x1 \"))\n",
    "x2=float(input(\"Enter the co- ordinate for x2 \"))\n",
    "y1=float(input(\"Enter the co- ordinate for y1 \"))\n",
    "y2=float(input(\"Enter the co- ordinate for y2 \"))\n",
    "dis=math.sqrt(((x2-x1)**2)+((y2-y1)**2))\n",
    "print(\"Distance between points (\",x1,\",\",y1,\") and (\",x2,\",\",y2,\")\",\"is \",dis)"
   ]
  },
  {
   "cell_type": "code",
   "execution_count": null,
   "metadata": {},
   "outputs": [],
   "source": [
    "#12 :Write a Python program to convert height in feet to centimetre\n",
    "height_in_feet=int(input(\"Enter the magnitude of height in feet : \"))\n",
    "value_in_cm=height_in_feet*30.48\n",
    "print(\"There are \",value_in_cm,\"cm in\",height_in_feet,\" ft\")"
   ]
  },
  {
   "cell_type": "code",
   "execution_count": null,
   "metadata": {},
   "outputs": [],
   "source": [
    "#13 :Write a Python program to calculate body mass index \n",
    "height=float(input(\"Enter the height in cm: \"))\n",
    "weight=float(input(\"Enter the weight in kg: \"))\n",
    "bmi=weight/(height/100)**2\n",
    "print(\"Your BMI is \",round(bmi,2))"
   ]
  },
  {
   "cell_type": "code",
   "execution_count": null,
   "metadata": {},
   "outputs": [],
   "source": [
    "#14 :Write a python program to sum of the first n positive integers \n",
    "value_of_n=int(input(\"Enter the value of n : \"))\n",
    "sum=0\n",
    "for x in range(value_of_n+1):\n",
    "    sum+=x\n",
    "print(\"Sum of all positive integers till \",value_of_n,\" is \",sum)\n",
    "               "
   ]
  },
  {
   "cell_type": "code",
   "execution_count": null,
   "metadata": {},
   "outputs": [],
   "source": [
    "#15 :Write a Python program to calculate the sum of the digits in an integer \n",
    "value_of_n=input(\"Enter the value of n : \")\n",
    "sum=0\n",
    "for x in value_of_n:\n",
    "    sum+=int(x)\n",
    "    print(str(x)+\"+\",end='')\n",
    "print(\" The sum of python program is : \",sum)\n"
   ]
  },
  {
   "cell_type": "code",
   "execution_count": null,
   "metadata": {},
   "outputs": [],
   "source": [
    "#Q16 :Write a Python program to convert an decimal integer to binary \n",
    "#def binary(x):\n",
    "def decimalToBinary(num):\n",
    "    if num > 1:\n",
    "        decimalToBinary(num // 2)\n",
    "    print(num % 2, end='')\n",
    "number = int(input(\"Enter any decimal number: \"))\n",
    "print(\"The binary Representation of \",number,\" is : \",end='')\n",
    "decimalToBinary(number)"
   ]
  },
  {
   "cell_type": "code",
   "execution_count": null,
   "metadata": {},
   "outputs": [],
   "source": [
    "#Q17 :Write a program to convert binary number to Decimal number \n",
    "def BinaryToDecimal(num):\n",
    "    multi=int(len(num))-1\n",
    "    dec=0\n",
    "    for x in num:\n",
    "        dec+=int(x)*2**multi\n",
    "        multi-=1\n",
    "    print(dec)\n",
    "n=input(\"Enter a binary number :\")\n",
    "m=0\n",
    "for x in n:\n",
    "    if int(x)==0 or int(x)==1:\n",
    "        m=1\n",
    "if m==1:\n",
    "    print(\"The binary Representation of \",n,\" is : \",end='')\n",
    "    BinaryToDecimal(n)\n",
    "else:\n",
    "    print(\"It is not a Binary Number \")"
   ]
  },
  {
   "cell_type": "code",
   "execution_count": null,
   "metadata": {},
   "outputs": [],
   "source": [
    "#Q18 :Vowel and Consonants Counter\n",
    "var=input(\"Enter a letter : \")\n",
    "Vow=0\n",
    "Cons=0\n",
    "for x in var:\n",
    "    if x=='a' or x=='e' or x=='i' or x=='o' or x=='u' or x=='A' or x=='E' or x=='I' or x=='O' or x=='U':\n",
    "        Vow+=1\n",
    "    else:\n",
    "        Cons+=1\n",
    "print(\"Vowels :\",Vow)\n",
    "print(\"Constants :\",Cons)"
   ]
  },
  {
   "cell_type": "code",
   "execution_count": null,
   "metadata": {},
   "outputs": [],
   "source": [
    "#Q19 :Write a program to check whether given input is palindrome or no\n",
    "word=input(\"Enter a Text : \")\n",
    "m=0\n",
    "z=0\n",
    "n=len(word)\n",
    "for x in word:\n",
    "    n-=1\n",
    "    if x==word[n]:\n",
    "        m=1\n",
    "    else:\n",
    "        z=1\n",
    "if m==1 and z==0:\n",
    "    print(word,\" is a palindrome\")\n",
    "else:\n",
    "    print(word, \" is not a palindrome \")\n"
   ]
  },
  {
   "cell_type": "code",
   "execution_count": null,
   "metadata": {},
   "outputs": [],
   "source": [
    "#20 :Count Alphabets, Numbers and Special Characters\n",
    "word=input(\"Enter a string : \")\n",
    "alpha=0\n",
    "num=0\n",
    "spec=0\n",
    "space=0\n",
    "for x  in word:\n",
    "    if (x>='a' and x<='z') or (x>='A' and x<='Z'):\n",
    "        alpha+=1\n",
    "    elif x>='0' and x<='9':\n",
    "       num+=1\n",
    "    elif (x.isspace())==True:\n",
    "        space+=1\n",
    "    else:\n",
    "        spec+=1\n",
    "print(\"Alphabets :\",alpha)\n",
    "print(\"Numbers :\",num)\n",
    "print(\"Special Characters :\",spec)\n",
    "print(\"Spaces :\",space)"
   ]
  },
  {
   "cell_type": "code",
   "execution_count": null,
   "metadata": {},
   "outputs": [],
   "source": [
    "#Q21 :21. Write a Python program to construct the following pattern \n",
    "#*  \n",
    "#* *\n",
    "#* * *\n",
    "#* * * * \n",
    "#* * * * *  \n",
    "#* * * *\n",
    "#* * *\n",
    "#* *\n",
    "#*  \n",
    "times=int(input(\"Enter no. of times : \"))\n",
    "for i in range(1, times+1, 1):\n",
    "    print(\"\")\n",
    "    for x in range(1, i+1, 1):\n",
    "        print(\"*\",end=\" \")\n",
    "        if(x==(times)):\n",
    "            for l in range(1,times, 1):\n",
    "                print(\"\")\n",
    "                for k in range(times-l+1,1, -1):\n",
    "                    print(\"*\",end=\" \")\n",
    "    "
   ]
  },
  {
   "cell_type": "code",
   "execution_count": 2,
   "metadata": {},
   "outputs": [
    {
     "name": "stdout",
     "output_type": "stream",
     "text": [
      "Enter no. of times : 5\n",
      "\n",
      "1 \n",
      "1 2 \n",
      "1 2 3 \n",
      "1 2 3 4 \n",
      "1 2 3 4 5 \n",
      "1 2 3 4 \n",
      "1 2 3 \n",
      "1 2 \n",
      "1 "
     ]
    }
   ],
   "source": [
    "#Q22. Write a Python program to construct the following pattern \n",
    "#1 \n",
    "#1 2 \n",
    "#1 2 3\n",
    "#1 2 3 4\n",
    "#1 2 3 4 5 \n",
    "#1 2 3 4 \n",
    "#1 2 3 \n",
    "#1 2  \n",
    "#1\n",
    "times=int(input(\"Enter no. of times : \"))\n",
    "for i in range(1, times+1, 1):\n",
    "    print(\"\")\n",
    "    for x in range(1, i+1, 1):\n",
    "        print(x,end=\" \")\n",
    "        if(x==(times)):\n",
    "            for l in range(1,times, 1):\n",
    "                print(\"\")\n",
    "                for k in range(1,times-l+1, 1):\n",
    "                    print(k,end=\" \")"
   ]
  },
  {
   "cell_type": "code",
   "execution_count": 3,
   "metadata": {},
   "outputs": [
    {
     "name": "stdout",
     "output_type": "stream",
     "text": [
      "Enter no. of times : 9\n",
      "\n",
      "1\n",
      "22\n",
      "333\n",
      "4444\n",
      "55555\n",
      "666666\n",
      "7777777\n",
      "88888888\n",
      "999999999"
     ]
    }
   ],
   "source": [
    "#Q23. Write a Python program to construct the following pattern \n",
    "#1 \n",
    "#22 \n",
    "#333 \n",
    "#4444 \n",
    "#55555 \n",
    "#666666 \n",
    "#7777777 \n",
    "#88888888 \n",
    "#999999999 \n",
    "times=int(input(\"Enter no. of times : \"))\n",
    "for i in range(1, times+1, 1):\n",
    "    print(\"\")\n",
    "    for x in range(1, i+1, 1):\n",
    "        print(i,end=\"\")"
   ]
  },
  {
   "cell_type": "code",
   "execution_count": null,
   "metadata": {},
   "outputs": [],
   "source": []
  },
  {
   "cell_type": "code",
   "execution_count": null,
   "metadata": {},
   "outputs": [],
   "source": []
  }
 ],
 "metadata": {
  "kernelspec": {
   "display_name": "Python 3",
   "language": "python",
   "name": "python3"
  },
  "language_info": {
   "codemirror_mode": {
    "name": "ipython",
    "version": 3
   },
   "file_extension": ".py",
   "mimetype": "text/x-python",
   "name": "python",
   "nbconvert_exporter": "python",
   "pygments_lexer": "ipython3",
   "version": "3.7.3"
  }
 },
 "nbformat": 4,
 "nbformat_minor": 2
}
