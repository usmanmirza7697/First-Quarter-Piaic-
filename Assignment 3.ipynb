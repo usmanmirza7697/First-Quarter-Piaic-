{
 "cells": [
  {
   "cell_type": "code",
   "execution_count": null,
   "metadata": {},
   "outputs": [],
   "source": [
    "f=open(\"E:sample_text_file.txt4\",\"rb\")\n",
    "x=f.read()\n",
    "spaces = tabs = words = num_lines = Total_chracters = special_chracter = 0\n",
    "#print(x)\n",
    "words=x.split()\n",
    "count_words=0\n",
    "count_lines=0\n",
    "count_char=0\n",
    "count_lines=0\n",
    "count_space=0\n",
    "count_para=0\n",
    "count_tab=0\n",
    "count_char=len(x)\n",
    "count_words=len(x.split())\n",
    "count_lines=len(x.splitlines())\n",
    "for y in str(x):\n",
    "    if y==\" \":\n",
    "        count_space+=1\n",
    "    if y==\"\\t\":\n",
    "        count_tab+=1\n",
    "print(\"Number of Characters : \",count_char)\n",
    "print(\"Number of Words :\",count_words)\n",
    "print(\"Number of lines : \",count_lines)\n",
    "print(\"Number of Spaces :\",count_space)"
   ]
  },
  {
   "cell_type": "code",
   "execution_count": 3,
   "metadata": {},
   "outputs": [
    {
     "name": "stdout",
     "output_type": "stream",
     "text": [
      "Encountered a start tag: html\n",
      "Encountered a start tag: head\n",
      "Encountered a start tag: title\n",
      "Encountered an end tag : title\n",
      "Encountered a start tag: style\n",
      "Encountered an end tag : style\n",
      "Encountered an end tag : head\n",
      "Encountered a start tag: body\n",
      "Encountered a start tag: h1\n",
      "Encountered an end tag : h1\n",
      "Encountered a start tag: p\n",
      "Encountered an end tag : p\n",
      "Encountered a start tag: p\n",
      "Encountered an end tag : p\n",
      "Encountered a start tag: p\n",
      "Encountered a start tag: a\n",
      "Encountered an end tag : a\n",
      "Encountered an end tag : p\n",
      "Encountered an end tag : body\n",
      "Encountered an end tag : html\n"
     ]
    }
   ],
   "source": [
    "from html.parser import HTMLParser\n",
    "\n",
    "class MyHTMLParser(HTMLParser):\n",
    "    def handle_starttag(self, tag, attrs):\n",
    "        print(\"Encountered a start tag:\", tag)\n",
    "\n",
    "    def handle_endtag(self, tag):\n",
    "        print(\"Encountered an end tag :\", tag)\n",
    "\n",
    "\n",
    "\n",
    "parser = MyHTMLParser()\n",
    "f=open(\"E:example_html_file.html\",\"rb\")\n",
    "x=f.read()\n",
    "parser.feed(str(x))"
   ]
  },
  {
   "cell_type": "code",
   "execution_count": null,
   "metadata": {},
   "outputs": [],
   "source": [
    "from html.parser import HTMLParser\n",
    "import os\n",
    "import sys\n",
    "\n",
    "dictionarTags ={}\n",
    "dictionaryCloseTags ={}\n",
    "class MyHTMLParser(HTMLParser):\n",
    "    def handle_starttag(self, tag, attrs):\n",
    "        #print(\"Encountered a start tag:\", tag)\n",
    "        if tag not in dictionarTags:\n",
    "            dictionarTags[tag] = 1\n",
    "        else:\n",
    "            dictionarTags[tag]  +=1    \n",
    "    def display (self):  \n",
    "        print(\"\\n Opening tags dictionary : {}\".format(dictionarTags))\n",
    "        print(\"\\n Closing tags dictionary : {}\".format(dictionaryCloseTags))\n",
    "    def handle_endtag(self, tag):\n",
    "        if tag not in dictionaryCloseTags:\n",
    "            dictionaryCloseTags[tag] = 1\n",
    "        else:\n",
    "            dictionaryCloseTags[tag]  +=1 \n",
    "\n",
    "    #def handle_data(self, data):\n",
    "     #   if data not in dictionarTags:\n",
    "      #      dictionarTags[data] = 1\n",
    "       # else:\n",
    "        #    dictionarTags[data]  +=1 \n",
    "        \n",
    "fileNames = list(input(\"please enter comma seperated html file name: eg; file1.html,file2.html \\n\").split(''))\n",
    "#print(fileNames)\n",
    "for fileName in fileNames:\n",
    "    \n",
    "    if os.path.isfile(fileName) is True:\n",
    "        parser = MyHTMLParser()\n",
    "        f = open(fileName, 'r')\n",
    "        data = f.read()\n",
    "        #print(type(data))\n",
    "        print(\"Tags Parsing of file {} :\".format(fileName))\n",
    "        parser.feed(data)\n",
    "        parser.display() \n",
    "        dictionarTags ={}\n",
    "    else :\n",
    "        print(fileName, \"Not exists\")"
   ]
  },
  {
   "cell_type": "code",
   "execution_count": null,
   "metadata": {},
   "outputs": [],
   "source": []
  }
 ],
 "metadata": {
  "kernelspec": {
   "display_name": "Python 3",
   "language": "python",
   "name": "python3"
  },
  "language_info": {
   "codemirror_mode": {
    "name": "ipython",
    "version": 3
   },
   "file_extension": ".py",
   "mimetype": "text/x-python",
   "name": "python",
   "nbconvert_exporter": "python",
   "pygments_lexer": "ipython3",
   "version": "3.7.3"
  }
 },
 "nbformat": 4,
 "nbformat_minor": 2
}
